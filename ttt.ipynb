{
 "cells": [
  {
   "cell_type": "markdown",
   "id": "2e4554c5",
   "metadata": {},
   "source": [
    "# Imports"
   ]
  },
  {
   "cell_type": "code",
   "execution_count": 1,
   "id": "f826aa57",
   "metadata": {},
   "outputs": [],
   "source": [
    "import random\n",
    "import math\n",
    "import copy\n",
    "from collections import defaultdict\n",
    "import matplotlib.pyplot as plt"
   ]
  },
  {
   "cell_type": "code",
   "execution_count": 2,
   "id": "f498e013",
   "metadata": {},
   "outputs": [],
   "source": [
    "NUM_ITER = 1000\n",
    "NUM_SIM = 200"
   ]
  },
  {
   "cell_type": "markdown",
   "id": "5e3721ae",
   "metadata": {},
   "source": [
    "# Define Tic Tac Toe Game and Agents"
   ]
  },
  {
   "cell_type": "markdown",
   "id": "8cf77c71",
   "metadata": {},
   "source": [
    "## Tic Tac Toe"
   ]
  },
  {
   "cell_type": "code",
   "execution_count": 3,
   "id": "efe8fd58",
   "metadata": {},
   "outputs": [],
   "source": [
    "class TicTacToe:\n",
    "    def __init__(self):\n",
    "        self.board = [\" \"] * 9\n",
    "        self.current_player = \"X\"\n",
    "\n",
    "    def available_actions(self):\n",
    "        return [i for i, spot in enumerate(self.board) if spot == \" \"]\n",
    "\n",
    "    def play_move(self, action):\n",
    "        if self.board[action] != \" \":\n",
    "            raise ValueError(\"Invalid move\")\n",
    "        self.board[action] = self.current_player\n",
    "        self.current_player = \"O\" if self.current_player == \"X\" else \"X\"\n",
    "\n",
    "    def winner(self):\n",
    "        lines = [\n",
    "            (0, 1, 2),\n",
    "            (3, 4, 5),\n",
    "            (6, 7, 8),\n",
    "            (0, 3, 6),\n",
    "            (1, 4, 7),\n",
    "            (2, 5, 8),\n",
    "            (0, 4, 8),\n",
    "            (2, 4, 6),\n",
    "        ]\n",
    "        for i, j, k in lines:\n",
    "            if self.board[i] == self.board[j] == self.board[k] != \" \":\n",
    "                return self.board[i]\n",
    "        return None\n",
    "\n",
    "    def is_terminal(self):\n",
    "        return self.winner() is not None or all(s != \" \" for s in self.board)\n",
    "\n",
    "    def clone(self):\n",
    "        clone = TicTacToe()\n",
    "        clone.board = self.board[:]\n",
    "        clone.current_player = self.current_player\n",
    "        return clone"
   ]
  },
  {
   "cell_type": "markdown",
   "id": "719bc1e5",
   "metadata": {},
   "source": [
    "## Monte Carlo Agent"
   ]
  },
  {
   "cell_type": "code",
   "execution_count": 4,
   "id": "18f50a6a",
   "metadata": {},
   "outputs": [],
   "source": [
    "def random_agent(game):\n",
    "    return random.choice(game.available_actions())"
   ]
  },
  {
   "cell_type": "code",
   "execution_count": 5,
   "id": "3649002e",
   "metadata": {},
   "outputs": [],
   "source": [
    "def monte_carlo_agent(game, simulations_per_action=NUM_SIM):\n",
    "    actions = game.available_actions()\n",
    "    action_wins = defaultdict(int)\n",
    "\n",
    "    for action in actions:\n",
    "        for _ in range(simulations_per_action):\n",
    "            sim_game = game.clone()\n",
    "            sim_game.play_move(action)\n",
    "\n",
    "            # Simulate random playout\n",
    "            while not sim_game.is_terminal():\n",
    "                sim_game.play_move(random_agent(sim_game))\n",
    "\n",
    "            winner = sim_game.winner()\n",
    "            if winner == game.current_player:\n",
    "                action_wins[action] += 1\n",
    "            elif winner is None:\n",
    "                action_wins[action] += 0.5  # Count draw as half-win\n",
    "\n",
    "    best_action = max(actions, key=lambda a: action_wins[a])\n",
    "    return best_action"
   ]
  },
  {
   "cell_type": "markdown",
   "id": "d9d145b8",
   "metadata": {},
   "source": [
    "## MCTS Agent"
   ]
  },
  {
   "cell_type": "code",
   "execution_count": 6,
   "id": "ce1e3a09",
   "metadata": {},
   "outputs": [],
   "source": [
    "class MCTSNode:\n",
    "    def __init__(self, game, parent=None):\n",
    "        self.game = game\n",
    "        self.parent = parent\n",
    "        self.children = {}\n",
    "        self.wins = 0\n",
    "        self.visits = 0\n",
    "        self.untried_actions = game.available_actions()\n",
    "\n",
    "    def ucb1(self, total_simulations, c=1.41):\n",
    "        if self.visits == 0:\n",
    "            return float(\"inf\")\n",
    "        return self.wins / self.visits + c * math.sqrt(\n",
    "            math.log(total_simulations) / self.visits\n",
    "        )\n",
    "\n",
    "    def best_child(self):\n",
    "        return max(self.children.values(), key=lambda node: node.ucb1(self.visits))\n",
    "\n",
    "    def expand(self):\n",
    "        action = self.untried_actions.pop()\n",
    "        next_game = self.game.clone()\n",
    "        next_game.play_move(action)\n",
    "        child_node = MCTSNode(next_game, parent=self)\n",
    "        self.children[action] = child_node\n",
    "        return child_node\n",
    "\n",
    "    def backpropagate(self, result):\n",
    "        self.visits += 1\n",
    "        if result == self.game.current_player:  # Last move was opponent\n",
    "            self.wins += 0\n",
    "        elif result is not None:\n",
    "            self.wins += 1\n",
    "        if self.parent:\n",
    "            self.parent.backpropagate(result)\n",
    "\n",
    "    def is_fully_expanded(self):\n",
    "        return len(self.untried_actions) == 0"
   ]
  },
  {
   "cell_type": "code",
   "execution_count": 7,
   "id": "87865cdf",
   "metadata": {},
   "outputs": [],
   "source": [
    "def mcts(root_game, iter_limit=NUM_ITER):\n",
    "    root_node = MCTSNode(root_game)\n",
    "    for _ in range(iter_limit):\n",
    "        node = root_node\n",
    "        while not node.game.is_terminal() and node.is_fully_expanded():\n",
    "            node = node.best_child()\n",
    "\n",
    "        if not node.game.is_terminal():\n",
    "            node = node.expand()\n",
    "\n",
    "        game_result = node.game.winner()\n",
    "        node.backpropagate(game_result)\n",
    "\n",
    "    best_action = max(root_node.children.items(), key=lambda item: item[1].visits)[0]\n",
    "    return best_action"
   ]
  },
  {
   "cell_type": "code",
   "execution_count": 8,
   "id": "d1196223",
   "metadata": {},
   "outputs": [],
   "source": [
    "def mcts_agent(game, iterations=NUM_ITER):\n",
    "    return mcts(game, iter_limit=iterations)"
   ]
  },
  {
   "cell_type": "markdown",
   "id": "d6210fd3",
   "metadata": {},
   "source": [
    "# Play Games and Compare results"
   ]
  },
  {
   "cell_type": "markdown",
   "id": "67956be0",
   "metadata": {},
   "source": [
    "## Definitions"
   ]
  },
  {
   "cell_type": "code",
   "execution_count": 9,
   "id": "d5a54baa",
   "metadata": {},
   "outputs": [],
   "source": [
    "def play_game(agent_X, agent_O, verbose=False):\n",
    "    game = TicTacToe()\n",
    "    while not game.is_terminal():\n",
    "        if game.current_player == \"X\":\n",
    "            action = agent_X(game.clone())\n",
    "        else:\n",
    "            action = agent_O(game.clone())\n",
    "        game.play_move(action)\n",
    "        if verbose:\n",
    "            print(game.board[0:3])\n",
    "            print(game.board[3:6])\n",
    "            print(game.board[6:9])\n",
    "            print()\n",
    "    return game.winner()"
   ]
  },
  {
   "cell_type": "code",
   "execution_count": 10,
   "id": "af7c6b6b",
   "metadata": {},
   "outputs": [],
   "source": [
    "def display_results(results, agent_X, agent_O):\n",
    "    labels = list(results.keys())\n",
    "    values = list(results.values())\n",
    "\n",
    "    plt.figure(figsize=(6, 4))\n",
    "    plt.bar(labels, values, color=[\"green\", \"red\", \"gray\"])\n",
    "    plt.title(f\"{agent_X} (X) vs {agent_O} (O)\")\n",
    "    plt.ylabel(\"Games Won\")\n",
    "    plt.show()"
   ]
  },
  {
   "cell_type": "markdown",
   "id": "d72727cc",
   "metadata": {},
   "source": [
    "## 2 simulations: Each agent begins in one of them"
   ]
  },
  {
   "cell_type": "markdown",
   "id": "00f243ae",
   "metadata": {},
   "source": [
    "### MC Agent vs Random Agent"
   ]
  },
  {
   "cell_type": "code",
   "execution_count": 11,
   "id": "fa802ba4",
   "metadata": {},
   "outputs": [
    {
     "name": "stdout",
     "output_type": "stream",
     "text": [
      "MC (X) vs Random (O): {'X': 986, 'O': 0, 'Draw': 14}\n"
     ]
    }
   ],
   "source": [
    "results_mc_random = {\"X\": 0, \"O\": 0, \"Draw\": 0}\n",
    "\n",
    "for _ in range(NUM_ITER):\n",
    "    result = play_game(monte_carlo_agent, random_agent)\n",
    "    if result == \"X\":\n",
    "        results_mc_random[\"X\"] += 1\n",
    "    elif result == \"O\":\n",
    "        results_mc_random[\"O\"] += 1\n",
    "    else:\n",
    "        results_mc_random[\"Draw\"] += 1\n",
    "\n",
    "print(\"MC (X) vs Random (O):\", results_mc_random)"
   ]
  },
  {
   "cell_type": "code",
   "execution_count": 12,
   "id": "9bc6c64e",
   "metadata": {},
   "outputs": [
    {
     "name": "stdout",
     "output_type": "stream",
     "text": [
      "Random (X) vs MC (O): {'X': 28, 'O': 908, 'Draw': 64}\n"
     ]
    }
   ],
   "source": [
    "results_random_mc = {\"X\": 0, \"O\": 0, \"Draw\": 0}\n",
    "\n",
    "for _ in range(NUM_ITER):\n",
    "    result = play_game(random_agent, monte_carlo_agent)\n",
    "    if result == \"X\":\n",
    "        results_random_mc[\"X\"] += 1\n",
    "    elif result == \"O\":\n",
    "        results_random_mc[\"O\"] += 1\n",
    "    else:\n",
    "        results_random_mc[\"Draw\"] += 1\n",
    "\n",
    "print(\"Random (X) vs MC (O):\", results_random_mc)"
   ]
  },
  {
   "cell_type": "code",
   "execution_count": 13,
   "id": "ed2f265f",
   "metadata": {},
   "outputs": [
    {
     "data": {
      "image/png": "[encoded data removed]",
      "text/plain": [
       "<Figure size 600x400 with 1 Axes>"
      ]
     },
     "metadata": {},
     "output_type": "display_data"
    },
    {
     "data": {
      "image/png": "[encoded data removed]",
      "text/plain": [
       "<Figure size 600x400 with 1 Axes>"
      ]
     },
     "metadata": {},
     "output_type": "display_data"
    }
   ],
   "source": [
    "display_results(results_mc_random, \"MC\", \"Random\")\n",
    "display_results(results_random_mc, \"Random\", \"MC\")"
   ]
  },
  {
   "cell_type": "markdown",
   "id": "7f5f01ec",
   "metadata": {},
   "source": [
    "## MCTS Agent vs. Random Agent"
   ]
  },
  {
   "cell_type": "code",
   "execution_count": 14,
   "id": "0212f6c3",
   "metadata": {},
   "outputs": [
    {
     "name": "stdout",
     "output_type": "stream",
     "text": [
      "MCTS (X) vs Random (O): {'X': 992, 'O': 0, 'Draw': 8}\n"
     ]
    }
   ],
   "source": [
    "results_mcts_random = {\"X\": 0, \"O\": 0, \"Draw\": 0}\n",
    "\n",
    "for _ in range(NUM_ITER):\n",
    "    result = play_game(mcts_agent, random_agent)\n",
    "    if result == \"X\":\n",
    "        results_mcts_random[\"X\"] += 1\n",
    "    elif result == \"O\":\n",
    "        results_mcts_random[\"O\"] += 1\n",
    "    else:\n",
    "        results_mcts_random[\"Draw\"] += 1\n",
    "\n",
    "print(\"MCTS (X) vs Random (O):\", results_mcts_random)"
   ]
  },
  {
   "cell_type": "code",
   "execution_count": 15,
   "id": "db451351",
   "metadata": {},
   "outputs": [
    {
     "name": "stdout",
     "output_type": "stream",
     "text": [
      "Random (X) vs MCTS (O): {'X': 88, 'O': 880, 'Draw': 32}\n"
     ]
    }
   ],
   "source": [
    "results_random_mcts = {\"X\": 0, \"O\": 0, \"Draw\": 0}\n",
    "\n",
    "for _ in range(NUM_ITER):\n",
    "    result = play_game(random_agent, mcts_agent)\n",
    "    if result == \"X\":\n",
    "        results_random_mcts[\"X\"] += 1\n",
    "    elif result == \"O\":\n",
    "        results_random_mcts[\"O\"] += 1\n",
    "    else:\n",
    "        results_random_mcts[\"Draw\"] += 1\n",
    "\n",
    "print(\"Random (X) vs MCTS (O):\", results_random_mcts)"
   ]
  },
  {
   "cell_type": "code",
   "execution_count": 16,
   "id": "0be847e5",
   "metadata": {},
   "outputs": [
    {
     "data": {
      "image/png": "[encoded data removed]",
      "text/plain": [
       "<Figure size 600x400 with 1 Axes>"
      ]
     },
     "metadata": {},
     "output_type": "display_data"
    },
    {
     "data": {
      "image/png": "[encoded data removed]",
      "text/plain": [
       "<Figure size 600x400 with 1 Axes>"
      ]
     },
     "metadata": {},
     "output_type": "display_data"
    }
   ],
   "source": [
    "display_results(results_mcts_random, \"MCTS\", \"Random\")\n",
    "display_results(results_random_mcts, \"Random\", \"MCTS\")"
   ]
  },
  {
   "cell_type": "markdown",
   "id": "ce12a724",
   "metadata": {},
   "source": [
    "## MCTS Agent vs. MC Agent"
   ]
  },
  {
   "cell_type": "code",
   "execution_count": null,
   "id": "00927e23",
   "metadata": {},
   "outputs": [],
   "source": [
    "results_mcts_mc = {\"X\": 0, \"O\": 0, \"Draw\": 0}\n",
    "\n",
    "for _ in range(NUM_ITER):\n",
    "    result = play_game(mcts_agent, monte_carlo_agent)\n",
    "    if result == \"X\":\n",
    "        results_mcts_mc[\"X\"] += 1\n",
    "    elif result == \"O\":\n",
    "        results_mcts_mc[\"O\"] += 1\n",
    "    else:\n",
    "        results_mcts_mc[\"Draw\"] += 1\n",
    "\n",
    "print(\"MCTS (X) vs MC (O):\", results_mcts_mc)"
   ]
  },
  {
   "cell_type": "code",
   "execution_count": null,
   "id": "ef550f4b",
   "metadata": {},
   "outputs": [],
   "source": [
    "results_mc_mcts = {\"X\": 0, \"O\": 0, \"Draw\": 0}\n",
    "\n",
    "for _ in range(NUM_ITER):\n",
    "    result = play_game(monte_carlo_agent, mcts_agent)\n",
    "    if result == \"X\":\n",
    "        results_mc_mcts[\"X\"] += 1\n",
    "    elif result == \"O\":\n",
    "        results_mc_mcts[\"O\"] += 1\n",
    "    else:\n",
    "        results_mc_mcts[\"Draw\"] += 1\n",
    "\n",
    "print(\"MC (X) vs MCTS (O):\", results_mc_mcts)"
   ]
  },
  {
   "cell_type": "code",
   "execution_count": null,
   "id": "b6783e77",
   "metadata": {},
   "outputs": [],
   "source": [
    "display_results(results_mcts_mc, \"MCTS\", \"MC\")\n",
    "display_results(results_mc_mcts, \"MC\", \"MCTS\")"
   ]
  },
  {
   "cell_type": "markdown",
   "id": "ed39ef0f",
   "metadata": {},
   "source": [
    "### MCTS vs MCTS"
   ]
  },
  {
   "cell_type": "code",
   "execution_count": null,
   "id": "c8883565",
   "metadata": {},
   "outputs": [],
   "source": [
    "results_mcts_mcts = {\"X\": 0, \"O\": 0, \"Draw\": 0}\n",
    "\n",
    "for _ in range(NUM_ITER):\n",
    "    result = play_game(mcts_agent, mcts_agent)\n",
    "    if result == \"X\":\n",
    "        results_mcts_mcts[\"X\"] += 1\n",
    "    elif result == \"O\":\n",
    "        results_mcts_mcts[\"O\"] += 1\n",
    "    else:\n",
    "        results_mcts_mcts[\"Draw\"] += 1\n",
    "\n",
    "print(\"MCTS_1 (X) vs MCTS_2 (O):\", results_mcts_mcts)"
   ]
  },
  {
   "cell_type": "code",
   "execution_count": null,
   "id": "39f465e3",
   "metadata": {},
   "outputs": [],
   "source": [
    "display_results(results_mcts_mcts, \"MCTS_1\", \"MCTS_2\")"
   ]
  },
  {
   "cell_type": "markdown",
   "id": "5ceea50c",
   "metadata": {},
   "source": [
    "### MC vs MC"
   ]
  },
  {
   "cell_type": "code",
   "execution_count": null,
   "id": "293e6261",
   "metadata": {},
   "outputs": [],
   "source": [
    "results_mc_mc = {\"X\": 0, \"O\": 0, \"Draw\": 0}\n",
    "\n",
    "for _ in range(NUM_ITER):\n",
    "    result = play_game(monte_carlo_agent, monte_carlo_agent)\n",
    "    if result == \"X\":\n",
    "        results_mc_mc[\"X\"] += 1\n",
    "    elif result == \"O\":\n",
    "        results_mc_mc[\"O\"] += 1\n",
    "    else:\n",
    "        results_mc_mc[\"Draw\"] += 1\n",
    "\n",
    "print(\"MC_1 (X) vs MC_2 (O):\", results_mc_mc)"
   ]
  },
  {
   "cell_type": "code",
   "execution_count": null,
   "id": "9a14a95a",
   "metadata": {},
   "outputs": [],
   "source": [
    "display_results(results_mc_mc, \"MC_1\", \"MC_2\")"
   ]
  },
  {
   "cell_type": "markdown",
   "id": "cb21b789",
   "metadata": {},
   "source": [
    "### Random vs Random"
   ]
  },
  {
   "cell_type": "code",
   "execution_count": null,
   "id": "535e6aaa",
   "metadata": {},
   "outputs": [],
   "source": [
    "results_random_random = {\"X\": 0, \"O\": 0, \"Draw\": 0}\n",
    "\n",
    "for _ in range(NUM_ITER * 1000):\n",
    "    result = play_game(random_agent, random_agent)\n",
    "    if result == \"X\":\n",
    "        results_random_random[\"X\"] += 1\n",
    "    elif result == \"O\":\n",
    "        results_random_random[\"O\"] += 1\n",
    "    else:\n",
    "        results_random_random[\"Draw\"] += 1\n",
    "\n",
    "print(\"Random_1 (X) vs Random_2 (O):\", results_random_random)"
   ]
  },
  {
   "cell_type": "code",
   "execution_count": null,
   "id": "d445ef91",
   "metadata": {},
   "outputs": [],
   "source": [
    "display_results(results_random_random, \"Random_1\", \"Random_2\")"
   ]
  },
  {
   "cell_type": "code",
   "execution_count": null,
   "id": "8cdda444",
   "metadata": {},
   "outputs": [],
   "source": []
  }
 ],
 "metadata": {
  "kernelspec": {
   "display_name": ".venv",
   "language": "python",
   "name": "python3"
  },
  "language_info": {
   "codemirror_mode": {
    "name": "ipython",
    "version": 3
   },
   "file_extension": ".py",
   "mimetype": "text/x-python",
   "name": "python",
   "nbconvert_exporter": "python",
   "pygments_lexer": "ipython3",
   "version": "3.12.10"
  }
 },
 "nbformat": 4,
 "nbformat_minor": 5
}
